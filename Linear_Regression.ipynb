{
 "cells": [
  {
   "cell_type": "code",
   "execution_count": 2,
   "id": "d250564c",
   "metadata": {},
   "outputs": [],
   "source": [
    "from sklearn.linear_model import LinearRegression\n",
    "from sklearn.model_selection import train_test_split\n",
    "import pandas as pd \n",
    "from sklearn.preprocessing import LabelEncoder"
   ]
  },
  {
   "cell_type": "code",
   "execution_count": 5,
   "id": "dd616120",
   "metadata": {},
   "outputs": [],
   "source": [
    "data=pd.read_csv(r\"C:\\Users\\sudhe\\OneDrive\\Desktop\\ml_lab\\datasets\\SalaryData.csv\") #read the dataset\n",
    "\n",
    "le=LabelEncoder()\n",
    "\n",
    "# drop rows with Nan values\n",
    "data=data.dropna() \n",
    "\n",
    "#convert categorical variables into numerical\n",
    "data['Gender']=le.fit_transform(data['Gender'])\n",
    "data['Education Level']=le.fit_transform(data['Education Level'])\n",
    "data['Job Title']=le.fit_transform(data['Job Title'])"
   ]
  },
  {
   "cell_type": "code",
   "execution_count": 45,
   "id": "26a135ec",
   "metadata": {},
   "outputs": [],
   "source": [
    "#split the data into features and target variables\n",
    "x=data[['Years of Experience','Education Level','Job Title','Age' ]]\n",
    "y=data['Salary']\n",
    "\n",
    "#split  the data into training and testing data \n",
    "x_train,x_test,y_train,y_test=train_test_split(x,y,test_size=0.13,random_state=0)"
   ]
  },
  {
   "cell_type": "code",
   "execution_count": 46,
   "id": "e398d8ff",
   "metadata": {},
   "outputs": [
    {
     "name": "stdout",
     "output_type": "stream",
     "text": [
      "Accuracy  score : 0.9021104764471398\n"
     ]
    }
   ],
   "source": [
    "#initialize(train) the regression model\n",
    "model=LinearRegression()\n",
    "model.fit(x_train,y_train)\n",
    "y_pred=model.predict(x_test)\n",
    "\n",
    "\n",
    "\n",
    "print('Accuracy  score :',model.score(x_test,y_test))"
   ]
  }
 ],
 "metadata": {
  "kernelspec": {
   "display_name": "Python 3 (ipykernel)",
   "language": "python",
   "name": "python3"
  },
  "language_info": {
   "codemirror_mode": {
    "name": "ipython",
    "version": 3
   },
   "file_extension": ".py",
   "mimetype": "text/x-python",
   "name": "python",
   "nbconvert_exporter": "python",
   "pygments_lexer": "ipython3",
   "version": "3.11.5"
  }
 },
 "nbformat": 4,
 "nbformat_minor": 5
}
