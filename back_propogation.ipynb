{
 "cells": [
  {
   "cell_type": "code",
   "execution_count": 3,
   "id": "01705c23",
   "metadata": {},
   "outputs": [],
   "source": [
    "import numpy as np\n",
    "import matplotlib as m\n"
   ]
  },
  {
   "cell_type": "code",
   "execution_count": 4,
   "id": "c6322d56",
   "metadata": {},
   "outputs": [],
   "source": [
    "X=np.array(([2,9],[1,5],[3,6]),dtype=float)\n",
    "y=np.array(([92],[86],[89]),dtype=float)\n",
    "\n",
    "y=y/100 #normlaize the outputs to be in range 0,1\n",
    "\n",
    "\n",
    "#the sigmoid function converts any real-valued number into a value between 0 and 1\n",
    "def sigmoid(x):\n",
    "    return 1/(1+np.exp(-x))\n",
    "\n",
    "#This derivative(derivative of sigmoid) is used during the backpropagation step in training a neural network.\n",
    "def derivatives_sigmoid(x):\n",
    "    return x*(1-x)\n",
    "\n",
    "\n",
    "epoch=7000  # Number of training iterations\n",
    "lr=0.1    # Learning rate\n",
    "\n",
    "inputlayer_neurons=2\n",
    "hiddenlayer_neurons=3\n",
    "output_neurons=1\n",
    "\n",
    "wh=np.random.uniform(size=(inputlayer_neurons,hiddenlayer_neurons))   # Weights for input to hidden layer\n",
    "\n",
    "#Biases are additional parameters in a neural network that allow the activation function to be shifted to the left or right\n",
    "\n",
    "bh=np.random.uniform(size=(1,hiddenlayer_neurons))    # Biases for hidden layer\n",
    "wout=np.random.uniform(size=(hiddenlayer_neurons,output_neurons))  # Weights for hidden to output layer\n",
    "bout=np.random.uniform(size=(1,output_neurons))  # Biases for output layer\n"
   ]
  },
  {
   "cell_type": "code",
   "execution_count": 5,
   "id": "1b148ddf",
   "metadata": {},
   "outputs": [
    {
     "name": "stdout",
     "output_type": "stream",
     "text": [
      "Input:\n",
      "[[2. 9.]\n",
      " [1. 5.]\n",
      " [3. 6.]]\n",
      "Actual Output:\n",
      "[[0.92]\n",
      " [0.86]\n",
      " [0.89]]\n",
      "Predicted Output:\n",
      " [[0.89038397]\n",
      " [0.88936184]\n",
      " [0.89021221]]\n"
     ]
    }
   ],
   "source": [
    "for i in range(epoch):\n",
    "    # Forward propagation\n",
    "    \n",
    "    hinp1 = np.dot(X, wh)  # Calculate input to hidden layer\n",
    "    hinp = hinp1 + bh  # Add bias to hidden layer input\n",
    "    hlayer_act = sigmoid(hinp)  # Activation function for hidden layer\n",
    "\n",
    "    outinp1 = np.dot(hlayer_act, wout)  # Calculate input to output layer\n",
    "    outinp = outinp1 + bout  # Add bias to output layer input\n",
    "    output = sigmoid(outinp)  # Activation function for output layer\n",
    "\n",
    "    # Backpropagation\n",
    "    \n",
    "    EO = y - output  # Calculate output error\n",
    "    outgrad = derivatives_sigmoid(output)  # Gradient of output\n",
    "    d_output = EO * outgrad  # Error term for output layer\n",
    "\n",
    "    EH = d_output.dot(wout.T)  # Error propagated to hidden layer , wout.t is transpose\n",
    "    hiddengrad = derivatives_sigmoid(hlayer_act)  # Gradient of hidden layer activations\n",
    "    d_hiddenlayer = EH * hiddengrad  # Error term for hidden layer\n",
    "\n",
    "    # Update weights and biases\n",
    "    \n",
    "    wout += hlayer_act.T.dot(d_output) * lr  # Update weights from hidden to output layer\n",
    "    wh += X.T.dot(d_hiddenlayer) * lr  # Update weights from input to hidden layer\n",
    "\n",
    "    \n",
    "    \n",
    "print(\"Input:\\n\"+str(X))\n",
    "print(\"Actual Output:\\n\"+str(y))\n",
    "print(\"Predicted Output:\\n\",output)"
   ]
  }
 ],
 "metadata": {
  "kernelspec": {
   "display_name": "Python 3 (ipykernel)",
   "language": "python",
   "name": "python3"
  },
  "language_info": {
   "codemirror_mode": {
    "name": "ipython",
    "version": 3
   },
   "file_extension": ".py",
   "mimetype": "text/x-python",
   "name": "python",
   "nbconvert_exporter": "python",
   "pygments_lexer": "ipython3",
   "version": "3.11.5"
  }
 },
 "nbformat": 4,
 "nbformat_minor": 5
}
